{
 "cells": [
  {
   "cell_type": "code",
   "execution_count": 36,
   "metadata": {},
   "outputs": [],
   "source": [
    "#leitura dos dados a serem analisados.\n",
    "\n",
    "import pandas as pd\n",
    "\n",
    "titanic = pd.read_csv(r\"C:\\Users\\junio\\OneDrive\\Área de Trabalho\\ARTE DOS DADOS\\TITANIC\\train.csv\", sep=\",\", index_col=False)\n",
    "titanic[\"Survived\"] = titanic[\"Survived\"].astype(int)"
   ]
  },
  {
   "cell_type": "markdown",
   "metadata": {},
   "source": [
    "#### Item (a)"
   ]
  },
  {
   "cell_type": "code",
   "execution_count": 37,
   "metadata": {},
   "outputs": [],
   "source": [
    "#Criação de uma nova coluna com as seguintes informações com as tags \"Sobreviveu e Não_Sobreviveu\"\n",
    "#Conheço funções prontas para realização dessa tarefa, mas como o banco de dados tem menos de 1000 registros irei fazer\n",
    "#utilizando as estruturas lógicas do python.\n",
    "\n",
    "titanic[\"Sobreviveu\"] = None\n",
    "\n",
    "for i in range(len(titanic)):                            #Iniciação do loop para verificação registro a registro.\n",
    "    if titanic[\"Survived\"][i] == 0:                      #Se linha i da coluna \"Survived \" for igual a 0, então\n",
    "        titanic[\"Sobreviveu\"][i] = \"Não_Sobreviveu\"      #Linha i recebe a tag \"Não_sobreviveu\" indicando que o passegeiro faleceu.\n",
    "    else:                                                #Caso a condição acima não seja satisfeita, então:                     \n",
    "        titanic[\"Sobreviveu\"][i] = \"Sobreviveu\"          #Linha i recebe a tag \"Sobreviveu\" indicando que o passageiro estava vivo após o incidente.\n"
   ]
  },
  {
   "cell_type": "markdown",
   "metadata": {},
   "source": [
    "#### Item (b)"
   ]
  },
  {
   "cell_type": "code",
   "execution_count": 38,
   "metadata": {},
   "outputs": [],
   "source": [
    "#Exclusão das colunas \"PassengerId\" e \"Ticket\"\n",
    "\n",
    "titanic = titanic.drop(columns=[\"PassengerId\", \"Ticket\"])\n"
   ]
  },
  {
   "cell_type": "code",
   "execution_count": 39,
   "metadata": {},
   "outputs": [
    {
     "data": {
      "text/html": [
       "<div>\n",
       "<style scoped>\n",
       "    .dataframe tbody tr th:only-of-type {\n",
       "        vertical-align: middle;\n",
       "    }\n",
       "\n",
       "    .dataframe tbody tr th {\n",
       "        vertical-align: top;\n",
       "    }\n",
       "\n",
       "    .dataframe thead th {\n",
       "        text-align: right;\n",
       "    }\n",
       "</style>\n",
       "<table border=\"1\" class=\"dataframe\">\n",
       "  <thead>\n",
       "    <tr style=\"text-align: right;\">\n",
       "      <th></th>\n",
       "      <th>Survived</th>\n",
       "      <th>Pclass</th>\n",
       "      <th>Name</th>\n",
       "      <th>Sex</th>\n",
       "      <th>Age</th>\n",
       "      <th>SibSp</th>\n",
       "      <th>Parch</th>\n",
       "      <th>Fare</th>\n",
       "      <th>Cabin</th>\n",
       "      <th>Embarked</th>\n",
       "      <th>Sobreviveu</th>\n",
       "    </tr>\n",
       "  </thead>\n",
       "  <tbody>\n",
       "    <tr>\n",
       "      <th>0</th>\n",
       "      <td>0</td>\n",
       "      <td>3</td>\n",
       "      <td>Braund, Mr. Owen Harris</td>\n",
       "      <td>male</td>\n",
       "      <td>22.0</td>\n",
       "      <td>1</td>\n",
       "      <td>0</td>\n",
       "      <td>7.2500</td>\n",
       "      <td>NaN</td>\n",
       "      <td>S</td>\n",
       "      <td>Não_Sobreviveu</td>\n",
       "    </tr>\n",
       "    <tr>\n",
       "      <th>1</th>\n",
       "      <td>1</td>\n",
       "      <td>1</td>\n",
       "      <td>Cumings, Mrs. John Bradley (Florence Briggs Th...</td>\n",
       "      <td>female</td>\n",
       "      <td>38.0</td>\n",
       "      <td>1</td>\n",
       "      <td>0</td>\n",
       "      <td>71.2833</td>\n",
       "      <td>C85</td>\n",
       "      <td>C</td>\n",
       "      <td>Sobreviveu</td>\n",
       "    </tr>\n",
       "    <tr>\n",
       "      <th>2</th>\n",
       "      <td>1</td>\n",
       "      <td>3</td>\n",
       "      <td>Heikkinen, Miss. Laina</td>\n",
       "      <td>female</td>\n",
       "      <td>26.0</td>\n",
       "      <td>0</td>\n",
       "      <td>0</td>\n",
       "      <td>7.9250</td>\n",
       "      <td>NaN</td>\n",
       "      <td>S</td>\n",
       "      <td>Sobreviveu</td>\n",
       "    </tr>\n",
       "    <tr>\n",
       "      <th>3</th>\n",
       "      <td>1</td>\n",
       "      <td>1</td>\n",
       "      <td>Futrelle, Mrs. Jacques Heath (Lily May Peel)</td>\n",
       "      <td>female</td>\n",
       "      <td>35.0</td>\n",
       "      <td>1</td>\n",
       "      <td>0</td>\n",
       "      <td>53.1000</td>\n",
       "      <td>C123</td>\n",
       "      <td>S</td>\n",
       "      <td>Sobreviveu</td>\n",
       "    </tr>\n",
       "    <tr>\n",
       "      <th>4</th>\n",
       "      <td>0</td>\n",
       "      <td>3</td>\n",
       "      <td>Allen, Mr. William Henry</td>\n",
       "      <td>male</td>\n",
       "      <td>35.0</td>\n",
       "      <td>0</td>\n",
       "      <td>0</td>\n",
       "      <td>8.0500</td>\n",
       "      <td>NaN</td>\n",
       "      <td>S</td>\n",
       "      <td>Não_Sobreviveu</td>\n",
       "    </tr>\n",
       "  </tbody>\n",
       "</table>\n",
       "</div>"
      ],
      "text/plain": [
       "   Survived  Pclass                                               Name  \\\n",
       "0         0       3                            Braund, Mr. Owen Harris   \n",
       "1         1       1  Cumings, Mrs. John Bradley (Florence Briggs Th...   \n",
       "2         1       3                             Heikkinen, Miss. Laina   \n",
       "3         1       1       Futrelle, Mrs. Jacques Heath (Lily May Peel)   \n",
       "4         0       3                           Allen, Mr. William Henry   \n",
       "\n",
       "      Sex   Age  SibSp  Parch     Fare Cabin Embarked      Sobreviveu  \n",
       "0    male  22.0      1      0   7.2500   NaN        S  Não_Sobreviveu  \n",
       "1  female  38.0      1      0  71.2833   C85        C      Sobreviveu  \n",
       "2  female  26.0      0      0   7.9250   NaN        S      Sobreviveu  \n",
       "3  female  35.0      1      0  53.1000  C123        S      Sobreviveu  \n",
       "4    male  35.0      0      0   8.0500   NaN        S  Não_Sobreviveu  "
      ]
     },
     "execution_count": 39,
     "metadata": {},
     "output_type": "execute_result"
    }
   ],
   "source": [
    "titanic.head()"
   ]
  },
  {
   "cell_type": "code",
   "execution_count": 40,
   "metadata": {},
   "outputs": [
    {
     "name": "stdout",
     "output_type": "stream",
     "text": [
      "Pelo banco de dados temos que dos 891 passageiros registrados sobreviveram 342. Um total de 38% de sobreviventes.\n"
     ]
    }
   ],
   "source": [
    "#Calculando o número de sobreviventes ao acidente.\n",
    "\n",
    "sobrevivente = 0                                #Variável para armazenar o número de sobrevivente.\n",
    "\n",
    "for i in range(len(titanic)):                   #Loop que percorrerá o banco de dados na coluna \"Survived\" para verificar o número de sobreviventes. \n",
    "    if titanic[\"Survived\"][i] == 1:             #Se na variável \"Survived\" linha i consta que o passageiro sobreviveu, então:\n",
    "        sobrevivente = sobrevivente + 1         #Sobrevivente receberá mais 1 na sua contagem.\n",
    "\n",
    "print(f\"Pelo banco de dados temos que dos 891 passageiros registrados sobreviveram {sobrevivente}. Um total de {round(sobrevivente/len(titanic) * 100)}% de sobreviventes.\")"
   ]
  },
  {
   "cell_type": "markdown",
   "metadata": {},
   "source": [
    "#### Item (c) e Item (d)"
   ]
  },
  {
   "cell_type": "code",
   "execution_count": 41,
   "metadata": {},
   "outputs": [
    {
     "data": {
      "text/plain": [
       "<AxesSubplot:>"
      ]
     },
     "execution_count": 41,
     "metadata": {},
     "output_type": "execute_result"
    },
    {
     "data": {
      "image/png": "[encoded data removed]",
      "text/plain": [
       "<Figure size 1800x720 with 2 Axes>"
      ]
     },
     "metadata": {},
     "output_type": "display_data"
    }
   ],
   "source": [
    "import missingno as mn #Biblioteca para ver a presença de NaN em cada coluna de forma visual.\n",
    "\n",
    "mn.matrix(titanic)\n",
    "\n",
    "#Nas barras abaixo, cada coluna representa uma variável no banco de dados. Nas barras completamente preenchidas temos as colunas do dataframe que\n",
    "#não possuem valores faltante. As linhas brancas nas colunas \"Age\", \"Cabin\" e \"Embarked\" nos dizem que há registros \"NaN\" presentes, portanto, devemos \n",
    "#tratar desses casos."
   ]
  },
  {
   "cell_type": "code",
   "execution_count": 14,
   "metadata": {},
   "outputs": [
    {
     "data": {
      "text/plain": [
       "0"
      ]
     },
     "execution_count": 14,
     "metadata": {},
     "output_type": "execute_result"
    }
   ],
   "source": [
    "titanic[\"Survived\"].isna().sum() #Visto que o retorno o item (a) foi executada corretamente, era de se esperar que não teriamos valore \"NaN\" em \"Survived\".\n",
    "titanic[\"Pclass\"].isna().sum() #O método retornou que não há valores faltantes para a variável \"Pclass\".\n",
    "titanic[\"Name\"].isna().sum() #O método retornou que não há valores faltantes para a variável \"Name\".\n",
    "titanic[\"Sex\"].isna().sum() #O método retornou que não há valores faltantes para a variável \"Sex\".\n",
    "titanic[\"SibSp\"].isna().sum() #O método retornou que não há valores faltantes para a variável \"SibSb\".\n",
    "titanic[\"Parch\"].isna().sum() #O método retornou que não há valores faltantes para a variável \"Parch\".\n",
    "titanic[\"Fare\"].isna().sum() #O método retornou que não há valores faltantes para a variável \"Fare\"."
   ]
  },
  {
   "cell_type": "code",
   "execution_count": 42,
   "metadata": {},
   "outputs": [
    {
     "name": "stderr",
     "output_type": "stream",
     "text": [
      "C:\\Users\\junio\\AppData\\Local\\Temp\\ipykernel_11016\\3041641132.py:11: SettingWithCopyWarning: \n",
      "A value is trying to be set on a copy of a slice from a DataFrame\n",
      "\n",
      "See the caveats in the documentation: https://pandas.pydata.org/pandas-docs/stable/user_guide/indexing.html#returning-a-view-versus-a-copy\n",
      "  titanic[\"Embarked\"][i] = \"S\"                        #Atribuição de \"S\" os valores faltantes.\n"
     ]
    }
   ],
   "source": [
    "titanic[\"Embarked\"].isna().sum() #Há dois valores faltantes em \"Embarked\". Irei preenchê-los com o portão onde mais pessoas embarcaram.\n",
    "\n",
    "len(titanic[titanic[\"Embarked\"] == \"C\"]) # C == 168 registros.\n",
    "len(titanic[titanic[\"Embarked\"] == \"S\"]) # S == 687 registros.\n",
    "len(titanic[titanic[\"Embarked\"] == \"Q\"]) # Q == 77 registros.\n",
    "\n",
    "# A maioria dos passageiros embarcaram em S - Southampton.\n",
    "\n",
    "for i in range(len(titanic)):                               #loop para percorrer o dataframe\n",
    "    if pd.isna(titanic[\"Embarked\"][i]):                     #Verificação da linha onde \"Embarked\" == Nan\n",
    "        titanic[\"Embarked\"][i] = \"S\"                        #Atribuição de \"S\" os valores faltantes."
   ]
  },
  {
   "cell_type": "code",
   "execution_count": null,
   "metadata": {},
   "outputs": [],
   "source": [
    "#Na coluna \"Age\" existem 177 registro \"NaN\", nesse campo. Para solucionar esse problema irei preencher esses valores faltante com\n",
    "#a mediana das idades. Não é adequa colocar 0 nesses registro pois há idades reais de passageiros com 0 anos. \n",
    "#Para tomar a mediana de uma conjunto irei utilizar uma função pronta do pandas.\n",
    "#Outra solução seria preencher com média. Mais a frente veremos que a média e a mediana são medidas semelhantes para a variável idade.\n",
    "\n",
    "titanic[\"Age\"].isna().sum()                                 #Verificação do número de linhas com \"Nan\" em relação a coluna \"Age\".\n",
    "\n",
    "for i in range(len(titanic)):                               #loop para percorrer o dataframe\n",
    "    if pd.isna(titanic[\"Age\"][i]):                          #Condição lógica: Se na linha i da coluna \"Age\" verificar \"NaN\" então executa.\n",
    "        titanic[\"Age\"][i] = titanic[\"Age\"].median()         #Condição satisfeita, então a linha em questão receberá e mediada das idades.\n",
    "\n",
    "titanic[\"Age\"] = titanic[\"Age\"].astype(int)                 #mudança de \"Age\" de float para int.\n"
   ]
  },
  {
   "cell_type": "code",
   "execution_count": 44,
   "metadata": {},
   "outputs": [],
   "source": [
    "#Há 687 registros sem a cabine definida.\n",
    "#Para resolver isso, será indicado na linha que a cabine é desconhecida. Outra alternativa a esse problema é preencher as cabines faltantes com as strings\n",
    "#de maior ocorrência. Todavia, julgo que esse procedimento não é adequada pois cabines são lugares para poucas pessoas, de modo que nas atribuições\n",
    "#poderiamos ter um grande número de pessoas no mesmo espaço, o que não parece real.\n",
    "\n",
    "titanic[\"Cabin\"].isnull().sum()\n",
    "titanic[\"Cabin\"] = titanic[\"Cabin\"].fillna(\"Desconhecida\")"
   ]
  },
  {
   "cell_type": "code",
   "execution_count": 51,
   "metadata": {},
   "outputs": [
    {
     "data": {
      "text/html": [
       "<div>\n",
       "<style scoped>\n",
       "    .dataframe tbody tr th:only-of-type {\n",
       "        vertical-align: middle;\n",
       "    }\n",
       "\n",
       "    .dataframe tbody tr th {\n",
       "        vertical-align: top;\n",
       "    }\n",
       "\n",
       "    .dataframe thead th {\n",
       "        text-align: right;\n",
       "    }\n",
       "</style>\n",
       "<table border=\"1\" class=\"dataframe\">\n",
       "  <thead>\n",
       "    <tr style=\"text-align: right;\">\n",
       "      <th></th>\n",
       "      <th>Survived</th>\n",
       "      <th>Pclass</th>\n",
       "      <th>Name</th>\n",
       "      <th>Sex</th>\n",
       "      <th>Age</th>\n",
       "      <th>SibSp</th>\n",
       "      <th>Parch</th>\n",
       "      <th>Fare</th>\n",
       "      <th>Cabin</th>\n",
       "      <th>Embarked</th>\n",
       "      <th>Sobreviveu</th>\n",
       "    </tr>\n",
       "  </thead>\n",
       "  <tbody>\n",
       "    <tr>\n",
       "      <th>0</th>\n",
       "      <td>0</td>\n",
       "      <td>3</td>\n",
       "      <td>Braund, Mr. Owen Harris</td>\n",
       "      <td>male</td>\n",
       "      <td>22</td>\n",
       "      <td>1</td>\n",
       "      <td>0</td>\n",
       "      <td>7.2500</td>\n",
       "      <td>Desconhecida</td>\n",
       "      <td>S</td>\n",
       "      <td>Não_Sobreviveu</td>\n",
       "    </tr>\n",
       "    <tr>\n",
       "      <th>1</th>\n",
       "      <td>1</td>\n",
       "      <td>1</td>\n",
       "      <td>Cumings, Mrs. John Bradley (Florence Briggs Th...</td>\n",
       "      <td>female</td>\n",
       "      <td>38</td>\n",
       "      <td>1</td>\n",
       "      <td>0</td>\n",
       "      <td>71.2833</td>\n",
       "      <td>C85</td>\n",
       "      <td>C</td>\n",
       "      <td>Sobreviveu</td>\n",
       "    </tr>\n",
       "    <tr>\n",
       "      <th>2</th>\n",
       "      <td>1</td>\n",
       "      <td>3</td>\n",
       "      <td>Heikkinen, Miss. Laina</td>\n",
       "      <td>female</td>\n",
       "      <td>26</td>\n",
       "      <td>0</td>\n",
       "      <td>0</td>\n",
       "      <td>7.9250</td>\n",
       "      <td>Desconhecida</td>\n",
       "      <td>S</td>\n",
       "      <td>Sobreviveu</td>\n",
       "    </tr>\n",
       "    <tr>\n",
       "      <th>3</th>\n",
       "      <td>1</td>\n",
       "      <td>1</td>\n",
       "      <td>Futrelle, Mrs. Jacques Heath (Lily May Peel)</td>\n",
       "      <td>female</td>\n",
       "      <td>35</td>\n",
       "      <td>1</td>\n",
       "      <td>0</td>\n",
       "      <td>53.1000</td>\n",
       "      <td>C123</td>\n",
       "      <td>S</td>\n",
       "      <td>Sobreviveu</td>\n",
       "    </tr>\n",
       "    <tr>\n",
       "      <th>4</th>\n",
       "      <td>0</td>\n",
       "      <td>3</td>\n",
       "      <td>Allen, Mr. William Henry</td>\n",
       "      <td>male</td>\n",
       "      <td>35</td>\n",
       "      <td>0</td>\n",
       "      <td>0</td>\n",
       "      <td>8.0500</td>\n",
       "      <td>Desconhecida</td>\n",
       "      <td>S</td>\n",
       "      <td>Não_Sobreviveu</td>\n",
       "    </tr>\n",
       "  </tbody>\n",
       "</table>\n",
       "</div>"
      ],
      "text/plain": [
       "   Survived  Pclass                                               Name  \\\n",
       "0         0       3                            Braund, Mr. Owen Harris   \n",
       "1         1       1  Cumings, Mrs. John Bradley (Florence Briggs Th...   \n",
       "2         1       3                             Heikkinen, Miss. Laina   \n",
       "3         1       1       Futrelle, Mrs. Jacques Heath (Lily May Peel)   \n",
       "4         0       3                           Allen, Mr. William Henry   \n",
       "\n",
       "      Sex  Age  SibSp  Parch     Fare         Cabin Embarked      Sobreviveu  \n",
       "0    male   22      1      0   7.2500  Desconhecida        S  Não_Sobreviveu  \n",
       "1  female   38      1      0  71.2833           C85        C      Sobreviveu  \n",
       "2  female   26      0      0   7.9250  Desconhecida        S      Sobreviveu  \n",
       "3  female   35      1      0  53.1000          C123        S      Sobreviveu  \n",
       "4    male   35      0      0   8.0500  Desconhecida        S  Não_Sobreviveu  "
      ]
     },
     "execution_count": 51,
     "metadata": {},
     "output_type": "execute_result"
    }
   ],
   "source": [
    "titanic.head()"
   ]
  },
  {
   "cell_type": "code",
   "execution_count": 46,
   "metadata": {},
   "outputs": [
    {
     "data": {
      "text/plain": [
       "<AxesSubplot:>"
      ]
     },
     "execution_count": 46,
     "metadata": {},
     "output_type": "execute_result"
    },
    {
     "data": {
      "image/png": "[encoded data removed]",
      "text/plain": [
       "<Figure size 1800x720 with 2 Axes>"
      ]
     },
     "metadata": {},
     "output_type": "display_data"
    }
   ],
   "source": [
    "#Vejamos que as colunas agora estão completamente cinzas, nos mostrando que não há mais valores ausentes no banco.\n",
    "\n",
    "mn.matrix(titanic)"
   ]
  },
  {
   "cell_type": "markdown",
   "metadata": {},
   "source": [
    "#### Item(e)"
   ]
  },
  {
   "cell_type": "code",
   "execution_count": 47,
   "metadata": {},
   "outputs": [
    {
     "name": "stderr",
     "output_type": "stream",
     "text": [
      "C:\\Users\\junio\\AppData\\Local\\Temp\\ipykernel_11016\\367691769.py:11: FutureWarning: Dropping of nuisance columns in DataFrame reductions (with 'numeric_only=None') is deprecated; in a future version this will raise TypeError.  Select only valid columns before calling the reduction.\n",
      "  Info[\"skew\"] = titanic.skew(axis = 0, skipna = True)        #Função do pandas que fornece a assimetria das distribuições de cada coluna numérica.\n",
      "C:\\Users\\junio\\AppData\\Local\\Temp\\ipykernel_11016\\367691769.py:12: FutureWarning: Dropping of nuisance columns in DataFrame reductions (with 'numeric_only=None') is deprecated; in a future version this will raise TypeError.  Select only valid columns before calling the reduction.\n",
      "  Info[\"kurt\"] = titanic.kurt(axis = 0, skipna = True)        #Função que calcula a curtose das distribuições para cada variável numérica.\n"
     ]
    },
    {
     "data": {
      "text/html": [
       "<div>\n",
       "<style scoped>\n",
       "    .dataframe tbody tr th:only-of-type {\n",
       "        vertical-align: middle;\n",
       "    }\n",
       "\n",
       "    .dataframe tbody tr th {\n",
       "        vertical-align: top;\n",
       "    }\n",
       "\n",
       "    .dataframe thead th {\n",
       "        text-align: right;\n",
       "    }\n",
       "</style>\n",
       "<table border=\"1\" class=\"dataframe\">\n",
       "  <thead>\n",
       "    <tr style=\"text-align: right;\">\n",
       "      <th></th>\n",
       "      <th>count</th>\n",
       "      <th>mean</th>\n",
       "      <th>std</th>\n",
       "      <th>min</th>\n",
       "      <th>25%</th>\n",
       "      <th>50%</th>\n",
       "      <th>75%</th>\n",
       "      <th>max</th>\n",
       "      <th>skew</th>\n",
       "      <th>kurt</th>\n",
       "    </tr>\n",
       "  </thead>\n",
       "  <tbody>\n",
       "    <tr>\n",
       "      <th>Survived</th>\n",
       "      <td>891.0</td>\n",
       "      <td>0.383838</td>\n",
       "      <td>0.486592</td>\n",
       "      <td>0.0</td>\n",
       "      <td>0.0000</td>\n",
       "      <td>0.0000</td>\n",
       "      <td>1.0</td>\n",
       "      <td>1.0000</td>\n",
       "      <td>0.478523</td>\n",
       "      <td>-1.775005</td>\n",
       "    </tr>\n",
       "    <tr>\n",
       "      <th>Pclass</th>\n",
       "      <td>891.0</td>\n",
       "      <td>2.308642</td>\n",
       "      <td>0.836071</td>\n",
       "      <td>1.0</td>\n",
       "      <td>2.0000</td>\n",
       "      <td>3.0000</td>\n",
       "      <td>3.0</td>\n",
       "      <td>3.0000</td>\n",
       "      <td>-0.630548</td>\n",
       "      <td>-1.280015</td>\n",
       "    </tr>\n",
       "    <tr>\n",
       "      <th>Age</th>\n",
       "      <td>891.0</td>\n",
       "      <td>29.345679</td>\n",
       "      <td>13.028212</td>\n",
       "      <td>0.0</td>\n",
       "      <td>22.0000</td>\n",
       "      <td>28.0000</td>\n",
       "      <td>35.0</td>\n",
       "      <td>80.0000</td>\n",
       "      <td>0.503570</td>\n",
       "      <td>0.998391</td>\n",
       "    </tr>\n",
       "    <tr>\n",
       "      <th>SibSp</th>\n",
       "      <td>891.0</td>\n",
       "      <td>0.523008</td>\n",
       "      <td>1.102743</td>\n",
       "      <td>0.0</td>\n",
       "      <td>0.0000</td>\n",
       "      <td>0.0000</td>\n",
       "      <td>1.0</td>\n",
       "      <td>8.0000</td>\n",
       "      <td>3.695352</td>\n",
       "      <td>17.880420</td>\n",
       "    </tr>\n",
       "    <tr>\n",
       "      <th>Parch</th>\n",
       "      <td>891.0</td>\n",
       "      <td>0.381594</td>\n",
       "      <td>0.806057</td>\n",
       "      <td>0.0</td>\n",
       "      <td>0.0000</td>\n",
       "      <td>0.0000</td>\n",
       "      <td>0.0</td>\n",
       "      <td>6.0000</td>\n",
       "      <td>2.749117</td>\n",
       "      <td>9.778125</td>\n",
       "    </tr>\n",
       "    <tr>\n",
       "      <th>Fare</th>\n",
       "      <td>891.0</td>\n",
       "      <td>32.204208</td>\n",
       "      <td>49.693429</td>\n",
       "      <td>0.0</td>\n",
       "      <td>7.9104</td>\n",
       "      <td>14.4542</td>\n",
       "      <td>31.0</td>\n",
       "      <td>512.3292</td>\n",
       "      <td>4.787317</td>\n",
       "      <td>33.398141</td>\n",
       "    </tr>\n",
       "  </tbody>\n",
       "</table>\n",
       "</div>"
      ],
      "text/plain": [
       "          count       mean        std  min      25%      50%   75%       max  \\\n",
       "Survived  891.0   0.383838   0.486592  0.0   0.0000   0.0000   1.0    1.0000   \n",
       "Pclass    891.0   2.308642   0.836071  1.0   2.0000   3.0000   3.0    3.0000   \n",
       "Age       891.0  29.345679  13.028212  0.0  22.0000  28.0000  35.0   80.0000   \n",
       "SibSp     891.0   0.523008   1.102743  0.0   0.0000   0.0000   1.0    8.0000   \n",
       "Parch     891.0   0.381594   0.806057  0.0   0.0000   0.0000   0.0    6.0000   \n",
       "Fare      891.0  32.204208  49.693429  0.0   7.9104  14.4542  31.0  512.3292   \n",
       "\n",
       "              skew       kurt  \n",
       "Survived  0.478523  -1.775005  \n",
       "Pclass   -0.630548  -1.280015  \n",
       "Age       0.503570   0.998391  \n",
       "SibSp     3.695352  17.880420  \n",
       "Parch     2.749117   9.778125  \n",
       "Fare      4.787317  33.398141  "
      ]
     },
     "execution_count": 47,
     "metadata": {},
     "output_type": "execute_result"
    }
   ],
   "source": [
    "#Pela função describe() do pandas conseguiremos obter algumas medidas descritivas do conjunto de dados. Para armazenas essa informações\n",
    "#eu fiz da saída da função um novo conjunto de dados a parte do titacnic\n",
    "\n",
    "Info = pd.DataFrame(titanic.describe())\n",
    "Info = Info.T                                               #O dataframe resultante possui as medidas em formato linha. \n",
    "                                                            #Para facilitar a manipulação tomei a transposta do dataframe original.\n",
    "\n",
    "\n",
    "#Função do pandas para calcular assimetris das variáveis \"PClass\", \"Age\", \"SibSp\", \"Parch\" e \"Fare\"\n",
    "\n",
    "Info[\"skew\"] = titanic.skew(axis = 0, skipna = True)        #Função do pandas que fornece a assimetria das distribuições de cada coluna numérica.\n",
    "Info[\"kurt\"] = titanic.kurt(axis = 0, skipna = True)        #Função que calcula a curtose das distribuições para cada variável numérica.\n",
    "\n",
    "Info.head(10)\n",
    "\n",
    "#Todas as colunas analisadas possuem os 891 registros.\n",
    "\n",
    "#MÉDIA: A média da coluna \"Survived\" representa a porcentagem de passageiros sobreviventes, já que trata-se de uma variável binária.\n",
    "#       A média de idade dos passageiros era de 29 anos.\n",
    "#       Como as colunas \"SibSp\" e \"Parch\" não são binárias possuem muitos zeros elas não nos indicam informações relevantes.\n",
    "#       Em \"Fare\" sabemos que os passageiro do titanic pagaram em média £$32 (libras esterlinas).\n",
    "\n",
    "#DESVIO PADRÃO: Visto que \"Survived\" é binária, já era de se esperar que não teriamos uma grande variábilidade dos dados em relação a média.\n",
    "#               O mesmo raciocínio se aplica a \"Pclass\" que possuí apenas 3 possíveis valores.\n",
    "#               Já para idade temos uma grande intervalo de possibilidades. Observamos que o desvio padrão para \"Age\" é de 13 anos.\n",
    "#               Ou seja, em relação a média a maioria dos dados estão a uma diferença de 13 anos de distância.\n",
    "#               Para \"Sibsp\" e \"Parch\" temos que o valor máximo para essa coluna é 8 e 6 respectivamente. Ou seja, não a um grande intervalo para o dados\n",
    "#               então o desvio é baixo.\n",
    "#               Em \"fare\" vemos um desvio padrão de aproximadamente £$ 50. Temos ai um desvio bastante grande o que indica uma grande dispersão dos dados\n",
    "#               em relaçao a média. Esse comportamento pode ser observado em casos de grande número de outlier, portanto, é mais adequado a utilização da\n",
    "#               mediana de \"Fare\" visto que essa medida de tendência central possui menor influência na presença de valores exremos.\n",
    "\n",
    "#MIN, QUARTIS e MAX: Em \"Survived\", como já sabiamos, pelo 3º quartil temos que ao menos 25% de passageiros sobreviveram ao naufrágio.\n",
    "#                    Em \"Pclass\" observamos pelo 1º quartil que menos de 25% dos passageiros eram da primeira classe. A mediana dessa variável é a 3º classe\n",
    "#                    o que nos indica que pelo menos 50% dos passageiros estavam nessa categoria.\n",
    "#                    Como dito anteriormente, para \"Age verificamos\" que a mediana é de 28 anos, um valor relativamente próximo da média. Verifica-se que,\n",
    "#                    no navio haviam passageiros com menos de 1 ano de idade. Os primeiros 25% dos passageiros tinham idade de até 22 anos, 50% tinham até 28\n",
    "#                    anos e 75% tinham até 35 anos. Pelo Max dessa variável observamos que o passageiro mais velho tinha 80 anos de idade.\n",
    "#                    Pelo mediana das coluna \"SibSp\" e \"Parch\" vemos que pelo 50% dos passageiros estavam sozinhos no navio. Enquanto que no mínimo 25% dos\n",
    "#                    passageiros possuiam algum parente a bordo. Para a coluna #Sibps\" vemos que havia um passageiro que possuia 8 cônuges\\irmãos junto dele.\n",
    "#                    Sendo esse o passageiro maior número de parentes desse tipo a bordo. Para \"Parch\" temos que o maior valor registrado para crianças e \n",
    "#                    parentes a bordo é de 6 pessoas.\n",
    "\n",
    "#Assimetria: O coeficiente de assimetria mede o comportamento das caudas das distribuições de probabilidade para cada coluna do data frame.\n",
    "#            Para as colunas \"Survived\", \"Pclass\", \"SibSp\" e \"Parch\" como os intervalos são pequenos e não há grande variabilidade dos dados, então\n",
    "#            não parece adequado analisar o valor de skewness nessa variável.\n",
    "#            Em \"Age\" observamos um coeficiente de assimetria de 0,5 o que nos indica que a media, mediana e a moda estão próximas entre si. Consequentemente,\n",
    "#            temos que os dados em \"Age\" estão igualmente distribuídos e relativamente próximos a média. Sendo assim, por esse valor podemos supor que as\n",
    "#            caudas na distribuição estão relativamente equilibradas de modo que a variável de idade possui um comportamento próximo da normal.\n",
    "#            Em \"Fare\" temos um coeficiente de 4.79, bastante longe de zero em comparação a \"Age\". Para nós, isso é um indicativo de que\n",
    "#            a cauda da distribuição de \"Fare\" é longa a direita. Como numa distribuição f. Além disso por conta desse deslocamento a direita é de esperar que\n",
    "#            a média é maior que a mediana como vimos, de modo que pelo menos 50% dos dados são pequenos, e valores extremos estão longe da média, o que explica o\n",
    "#            comportamento do desvio padrão.\n",
    "\n",
    "#Curtose: a curtose compara a altura e o peso das caudas das distribuição de variáveis em relação a normal. \n",
    "#         Novamente, para as variável \"Survived\", \"Pclass\", \"SibSp\" e \"Parch\" não iremos analisar a curtose pelos mesmos motivos anteriores.\n",
    "#         \"Fare\" possui um valor de curtose alto indicando que há muitos valores extremos presentes nessa variável.\n",
    "#         \"Age\" possui uma curtose de aproximadamente 1, o que nos indica uma Distribuição Leptocúrtica, onde a distribuição tem sua calda mais pesada e seu\n",
    "#         pico é mais alto. Um indicativo de que os dados estão proximos a média. "
   ]
  },
  {
   "cell_type": "code",
   "execution_count": null,
   "metadata": {},
   "outputs": [
    {
     "data": {
      "image/png": "[encoded data removed]",
      "text/plain": [
       "<Figure size 432x288 with 1 Axes>"
      ]
     },
     "metadata": {},
     "output_type": "display_data"
    },
    {
     "data": {
      "image/png": "[encoded data removed]",
      "text/plain": [
       "<Figure size 432x288 with 1 Axes>"
      ]
     },
     "metadata": {},
     "output_type": "display_data"
    }
   ],
   "source": [
    "#distribuição probabilistica\n",
    "import numpy as np\n",
    "import seaborn as sbs\n",
    "import matplotlib.pyplot as plt\n",
    "\n",
    "def histogram_plot(titanic,field):\n",
    "  return sbs.histplot(data=titanic,x=i,kde=True,bins=20)\n",
    "\n",
    "field = [\"Age\",\"Fare\"]\n",
    "\n",
    "for i in field:\n",
    "  \n",
    "  hist=histogram_plot(titanic,i)\n",
    "  plt.show()\n",
    "\n",
    "\n",
    "#Nos gráficos abaixo vemos visualmente que as interpretações das assimetrias e curtoses estão indicando o caminho correto."
   ]
  },
  {
   "cell_type": "markdown",
   "metadata": {},
   "source": [
    "#### Item (f)"
   ]
  },
  {
   "cell_type": "code",
   "execution_count": null,
   "metadata": {},
   "outputs": [
    {
     "data": {
      "image/png": "[encoded data removed]",
      "text/plain": [
       "<Figure size 432x288 with 2 Axes>"
      ]
     },
     "metadata": {},
     "output_type": "display_data"
    }
   ],
   "source": [
    "import pandas as pd\n",
    "import seaborn as sns\n",
    "import matplotlib.pyplot as plt\n",
    "\n",
    "# Calcular a matriz de correlação\n",
    "correlation_matrix = titanic.corr() #Função do pandas para plotar matriz de correlação das variáveis numéricas.\n",
    "\n",
    "# Visualizar a matriz de correlação como um heatmap\n",
    "sns.heatmap(correlation_matrix, annot=True, cmap='coolwarm')\n",
    "plt.title('Matriz de Correlação')\n",
    "plt.show()\n",
    "\n",
    "#A matriz de correção nos indica qual a relação entre duas variáveis númericas. Sendo que uma correlação = 0 nos indica que as duas variáveis não possuem\n",
    "#relação linear entre si. Correlação = 1, nos diz que há forte relação entre duas variávei, de modo que o comportamento de uma é diretamente proporcional ao da outra.\n",
    "#Uma correlação = -1 indica uma relação diretamente inversa entre as variáveis.\n",
    "\n",
    "#Dentre os valores observados abaixo  vale ressaltar a relação entre as seguintes variáveis.\n",
    "\n",
    "# \"Survived\" e \"PClass\": existe uma correlação de -0,34 entre essas variávies. Um indicativo de que a medida que a classe do passageiros aumento a \n",
    "# chance dele sobreviver diminui. Ou seja, pessoas na 1º classe tinham maior probabilidade de sobrevivência que pessoas na 3º. Entretanto, o valor 0,34 \n",
    "# indica que essa correlação entre as variáveis é moderada.\n",
    "# \"Survived\" e \"Fare\": Sendo essa correlação = 0,26 vemos que há um leve indício de que quanto maior o preço da passagem paga pelo tripulante maior é a\n",
    "# chance dele sobreviver. Apesar de assim interpretarmos, devemos considerar que magnitude da relação é fraca.\n",
    "# \"Pclass\" e \"Age\": Aqui a correlação também é de -0,34. Uma relação de força moderada entre as variáveis que pode indicar que pessoas mais velhas estavam\n",
    "# na primeira classe, enquanto que os mais jovem estavam em sua maioria nas demais.\n",
    "# \"PClass\" e \"Fare\": A Correlação é de -0,55. Ou seja, de uma força grande indicando que quanto maior o preço da tarifa mais próximo da primeira classe o \n",
    "# passageiro estará. Esse comportamento era de fato o esperado.\n",
    "# \"Age\" e \"SbiSp\": Correlação = -0,23. Podemos concluir que entre as variáveis de idade há uma relação fraca de que quanto mais velho tripulante maior é a chance\n",
    "# dele estar sozinho no navio.\n",
    "# \"SibSp\" e \"Parch\": Correlação = 0,41. Como é de esperar, a correlação nos informa que quanto maior o número de cônjuges e irmão de um passageiros\n",
    "# a bordo, há uma moderada chance de que maior seja o número de filhos e parentes no navio.\n",
    "# \"Parch\" e \"Fare\": Correlação = 0,22 indica que há uma relação positica fraca entre o número de parente de um tripulante e o valor do ticket por ele pago.\n",
    "# Ou seja, para aqueles que estavam acompanhados no návio há um chance de que eles tenham pagado mais pela passagem.\n",
    "\n",
    "# Todas as demais correlação são suficiente próximas de 0 o que nos indica ausência de relação entre as variáveis."
   ]
  },
  {
   "cell_type": "markdown",
   "metadata": {},
   "source": [
    "#### Item (g)"
   ]
  },
  {
   "cell_type": "code",
   "execution_count": 57,
   "metadata": {},
   "outputs": [
    {
     "name": "stdout",
     "output_type": "stream",
     "text": [
      "No navio haviam 577 homens e 314 mulheres.\n",
      "12% dos homens e 26% das mulheres do total de tripulantes sobreviveram ao desastres.\n",
      "19% do total de homem no navio sobreviveram.\n",
      "74% do total de Mulher no navio sobreviveram.\n"
     ]
    }
   ],
   "source": [
    "# Porcentagem de sobreviventes por sexo.\n",
    "\n",
    "S_Homem = 0                                             #S_Homem == Homens aobreviventes.\n",
    "T_Homem = 0                                             #T_Homem == Total de homens no návio.\n",
    "S_Mulher = 0                                            #S_Mulher == Mulheres sobreviventes\n",
    "T_Mulher = 0                                            #T_Mulher == Total de mulheres no návio.\n",
    "\n",
    "for i in range(len(titanic)):                           #Loop para percorrer o dataset.\n",
    "    if titanic[\"Sex\"][i] == \"male\":                     #Se o sexo do tripulante é homem, então.\n",
    "        T_Homem = T_Homem + 1                           #Soma-se 1 ao total de homens a bordo.\n",
    "        if titanic[\"Sobreviveu\"][i] == \"Sobreviveu\":      #Caso esse homem tenha sobrevivido.\n",
    "            S_Homem = S_Homem + 1                       #Soma-se 1 ao total de homens sobreviventes.\n",
    "    else:                                               #Se o tripulante não é homem, então.\n",
    "        T_Mulher = T_Mulher + 1                         #Soma-se 1 ao total de mulheres a bordo.\n",
    "        if titanic[\"Sobreviveu\"][i] == \"Sobreviveu\":      #Caso essa mulher tenha sobrevivido, então\n",
    "            S_Mulher = S_Mulher + 1                     #Soma-se 1 ao total de mulheres sobreviventes.\n",
    "\n",
    "print(f\"No navio haviam {T_Homem} homens e {T_Mulher} mulheres.\")\n",
    "print(f\"{round(S_Homem/len(titanic) * 100)}% dos homens e {round(S_Mulher/len(titanic) * 100)}% das mulheres do total de tripulantes sobreviveram ao desastres.\")\n",
    "print(f\"{round(S_Homem/T_Homem * 100)}% do total de homem no navio sobreviveram.\")\n",
    "print(f\"{round(S_Mulher/T_Mulher * 100)}% do total de Mulher no navio sobreviveram.\")"
   ]
  },
  {
   "cell_type": "markdown",
   "metadata": {},
   "source": [
    "#### Item (h) e Item(l)"
   ]
  },
  {
   "cell_type": "code",
   "execution_count": 58,
   "metadata": {},
   "outputs": [
    {
     "name": "stdout",
     "output_type": "stream",
     "text": [
      "Homens pagaram em média $26.\n",
      "Mulher pagaram em média $44.\n",
      "Pela comparação direta da média dos dois grupos, vê-se o valor médio do embarque pago por homens é menor que o pago pelas mulheres.\n",
      "Todavia, 65% dos tripulantes são homens, enquanto 35% são mulheres. Sendo assim, uma comparação feita direto pela média não é adequada.\n",
      "Será melhor se visualizarmos pela mediana. Entretanto, para compararmos os valores obtidos deve-se levar em consideração o tipo de classe de embarque.\n",
      "Para isso, separemos 1º, 2º e 3º classe e classifiquemos por sexo, e daí calculemos a mediana.\n",
      "\n",
      "Para passageiros na primeira classe, o valor mediano pago por homens foi de $41 enquanto que para mulheres foi de $83.\n",
      "Para passageiros na segunda classe, o valor mediano pago por homens foi de $13 enquanto que para mulheres foi de $22.\n",
      "Para passageiros na segunda classe, o valor mediano pago por homens foi de $8 enquanto que para mulheres foi de $12.\n",
      "\n",
      "Mesmo comparando homens e mulheres por classe vemos que mulheres pagam mais que homens.\n"
     ]
    }
   ],
   "source": [
    "#Média da tarifa para por sexo.\n",
    "\n",
    "T_fare_H = 0                                                                    #T_fare_H == Somatório da tárifa paga por homens.\n",
    "T_fare_M = 0                                                                    #T_fare_M == Somatório da tárifa paga por mulheres.\n",
    "\n",
    "\n",
    "for i in range(len(titanic)):                                                   #Loop para somar o valor o total pago por homem em \"Fare\"\n",
    "    if titanic[\"Sex\"][i] == \"male\":                                             #Se Passageiro na linha i é homem, então.\n",
    "        T_fare_H = T_fare_H + titanic[\"Fare\"][i]                                #Somatório da tarifa por homem recebe a tarifa paga pelo passageiro na linha i.\n",
    "    else:                                                                       #Caso o passageiro seja mulher, então.\n",
    "        T_fare_M = T_fare_M + titanic[\"Fare\"][i]                                #Somatório da tarifa por mulher recebe a tarifa paga pelo passageiro na linha i.\n",
    "\n",
    "print(f\"Homens pagaram em média ${round(T_fare_H / T_Homem)}.\")                 #Print e cálculo de média para homens.\n",
    "print(f\"Mulher pagaram em média ${round(T_fare_M / T_Mulher)}.\")                #Print e cálculo de média para mulheres.\n",
    "\n",
    "print(\"Pela comparação direta da média dos dois grupos, vê-se o valor médio do embarque pago por homens é menor que o pago pelas mulheres.\")\n",
    "print(f\"Todavia, {round(T_Homem/len(titanic) * 100)}% dos tripulantes são homens, enquanto {round(T_Mulher/len(titanic) * 100)}% são mulheres. \", end=\"\")\n",
    "print(f\"Sendo assim, uma comparação feita direto pela média não é adequada.\")\n",
    "print(\"Será melhor se visualizarmos pela mediana. Entretanto, para compararmos os valores obtidos deve-se levar em consideração o tipo de classe de embarque.\")\n",
    "print(\"Para isso, separemos 1º, 2º e 3º classe e classifiquemos por sexo, e daí calculemos a mediana.\")\n",
    "\n",
    "Pclass1_H = titanic[(titanic[\"Pclass\"] == 1) & (titanic[\"Sex\"] == \"male\")]      #Separação do dados em relação aos homens na primeira clase.\n",
    "PC1_H = round(Pclass1_H[\"Fare\"].median())                                       #Obtenção da mediana da variável Fare em relação a homens da primeira classe.\n",
    "Pclass1_M = titanic[(titanic[\"Pclass\"] == 1) & (titanic[\"Sex\"] == \"female\")]    #Dados apenas com mulheres da primeira classe.\n",
    "PC1_M = round((Pclass1_M[\"Fare\"]).median())                                     #Mediana de Fare para mulheres na primeira classe.\n",
    "Pclass2_H = titanic[(titanic[\"Pclass\"] == 2) & (titanic[\"Sex\"] == \"male\")]      #Dados Homens Segunda classe.\n",
    "PC2_H = round((Pclass2_H[\"Fare\"]).median())                                     #Mediana de Fare para homens na segunda classe.\n",
    "Pclass2_M = titanic[(titanic[\"Pclass\"] == 2) & (titanic[\"Sex\"] == \"female\")]    #Mulheres na segunda classe.\n",
    "PC2_M = round((Pclass2_M[\"Fare\"]).median())                                     #Mediana de Fare para mulheres na segunda classe.\n",
    "Pclass3_H = titanic[(titanic[\"Pclass\"] == 3) & (titanic[\"Sex\"] == \"male\")]      #Homens na terceira classe.\n",
    "PC3_H = round((Pclass3_H[\"Fare\"]).median())                                     #Mediana de Fare para homens na terceira classe.\n",
    "Pclass3_M = titanic[(titanic[\"Pclass\"] == 3) & (titanic[\"Sex\"] == \"female\")]    #Mulheres na terceira classe.\n",
    "PC3_M = round((Pclass3_M[\"Fare\"]).median())                                     #Mediana de Fare para mulheres na terceira classe.\n",
    "\n",
    "print(\"\") #Quebra de linha\n",
    "print(f\"Para passageiros na primeira classe, o valor mediano pago por homens foi de ${PC1_H} enquanto que para mulheres foi de ${PC1_M}.\")\n",
    "print(f\"Para passageiros na segunda classe, o valor mediano pago por homens foi de ${PC2_H} enquanto que para mulheres foi de ${PC2_M}.\")\n",
    "print(f\"Para passageiros na segunda classe, o valor mediano pago por homens foi de ${PC3_H} enquanto que para mulheres foi de ${PC3_M}.\")\n",
    "print(\"\")\n",
    "print(\"Mesmo comparando homens e mulheres por classe vemos que mulheres pagam mais que homens.\")\n"
   ]
  },
  {
   "cell_type": "markdown",
   "metadata": {},
   "source": [
    "#### Item (i) e Item(l)"
   ]
  },
  {
   "cell_type": "code",
   "execution_count": 77,
   "metadata": {},
   "outputs": [
    {
     "name": "stdout",
     "output_type": "stream",
     "text": [
      "Na primeira classe havia 216 passageiros que pagaram em média $84.\n",
      "Na segunda classe havia 184 passageiros que  pagaram em média $21.\n",
      "Na terceira classe havia 491 passageiros que  pagaram em média $14.\n",
      "Como era de se esperar passageiros da 1º classe pagaram pagaram mais que os demais.\n",
      "A diferença do valor médio da passagem entre 2º e 3º classe é muito inferior quando comparado com a 1º classe.\n"
     ]
    }
   ],
   "source": [
    "#Valor médio pago por classe.\n",
    "\n",
    "Fare_Pclass1 = 0                                                            #Variável para armazenar o total pago pela primeira classe.\n",
    "PC1 = 0                                                                     #Total de passageiros na primeira classe.\n",
    "Fare_Pclass2 = 0                                                            #Variável para armazenar o total pago pela segunda classe.\n",
    "PC2 = 0                                                                     #Total de passageiros na segunda classe.\n",
    "Fare_Pclass3 = 0                                                            #Variável para armazenar o total pago pela terceira classe.\n",
    "PC3 = 0                                                                     #Total de passageiros na terceira classe.\n",
    "\n",
    "for i in range(len(titanic)):                                               #Criação de um loop para somar o valor de tárifa de cada classe.\n",
    "    if titanic[\"Pclass\"][i] == 1:                                           #Se passageiro da linha i estava na primeira classe, então.\n",
    "        PC1 = PC1 + 1                                                       #Soma-se 1 ao número de passageiro na primeira classe.\n",
    "        Fare_Pclass1 = Fare_Pclass1 + titanic[\"Fare\"][i]                    #Soma-se ao total da tarifa paga pela primeira classe o valor de \"Fare\" da linha i.\n",
    "    elif titanic[\"Pclass\"][i] == 2:                                         #Caso contrário, se o passageiro na linha i está na segunda classe, então.\n",
    "        PC2 = PC2 + 1                                                       #Soma-se 1 ao número de passageiro na segunda classe.\n",
    "        Fare_Pclass2 = Fare_Pclass2 + titanic[\"Fare\"][i]                    #Soma-se ao total da tarifa paga pela segunda classe o valor de \"Fare\" da linha i.\n",
    "    else:                                                                   #Caso nenhuma das condições seja satisfeira, então o passageiro é da terceira classe.\n",
    "        PC3 = PC3 + 1                                                       #Soma-se 1 ao número de passageiro na terceira classe.\n",
    "        Fare_Pclass3 = Fare_Pclass3 + titanic[\"Fare\"][i]                    #Soma-se ao total da tarifa paga pela terceira classe o valor de \"Fare\" da linha i.\n",
    "\n",
    "print(f\"Na primeira classe havia {PC1} passageiros que pagaram em média ${round(Fare_Pclass1/PC1)}.\")\n",
    "print(f\"Na segunda classe havia {PC2} passageiros que  pagaram em média ${round(Fare_Pclass2/PC2)}.\")\n",
    "print(f\"Na terceira classe havia {PC3} passageiros que  pagaram em média ${round(Fare_Pclass3/PC3)}.\")\n",
    "print(\"Como era de se esperar passageiros da 1º classe pagaram pagaram mais que os demais.\")\n",
    "print(\"A diferença do valor médio da passagem entre 2º e 3º classe é muito inferior quando comparado com a 1º classe.\")"
   ]
  },
  {
   "cell_type": "markdown",
   "metadata": {},
   "source": [
    "#### Item (j) e Item(l)"
   ]
  },
  {
   "cell_type": "code",
   "execution_count": null,
   "metadata": {},
   "outputs": [
    {
     "name": "stdout",
     "output_type": "stream",
     "text": [
      "Em Cherbourg embarcaram 168 passageiros e em média o valor pago por embarque nesse local foi de $60\n",
      "Em Queenstown embarcaram 77 passageiros e em média o valor pago por embarque nesse local foi de $13\n",
      "Em Southampton embarcaram 646 passageiros e em média o valor pago por embarque nesse local foi de $16\n",
      "Em média o valor pago por passageiros que embarcaram em Cherbourg foi muito superior as demais cidades.\n",
      "Não se verifica que o número de passageiros da primeira classe que embarcaram em Cherbourg é o maior. Esse comportamente desse estar ocorrendo devido a presença de muito outlier nessa cidade.\n"
     ]
    }
   ],
   "source": [
    "#Média de \"Fare\" com base no portão de embarque do passageiro.\n",
    "\n",
    "Fare_C = 0                                          #Variável para contabilizar o total pago por passageiros que embarcaram em Cherbourg.\n",
    "Num_C = 0                                           #Variável para armazenar o total de passageiros que embacaram em Cherbourg.\n",
    "Fare_S = 0                                          #Variável para contabilizar o total pago por passageiros que embarcaram em Southampton.\n",
    "Num_S = 0                                           #Variável para armazenar o total de passageiros que embacaram Southampton.\n",
    "Fare_Q = 0                                          #Variável para contabilizar o total pago por passageiros que embarcaram em Queenstown.\n",
    "Num_Q = 0                                           #ariável para armazenar o total de passageiros que embacaram Queenstown.\n",
    "\n",
    "for i in range(len(titanic)):                       #Loop para percorrer o DataSet.\n",
    "    if titanic[\"Embarked\"][i] == \"C\":               #Se \"Embarked\" na posição i é igual a Cherbourg, então.\n",
    "        Num_C = Num_C + 1                           #Soma-se 1 a número de ingressante no navio nessa cidade.\n",
    "        Fare_C = Fare_C + titanic[\"Fare\"][i]        #Acrescenta-se a variável Fare_C o valor pago em tárifa de embarque no portão de Cherbourg.\n",
    "    elif titanic[\"Embarked\"][i] == \"S\":             #Se \"Embarked\" na posição i é igual a Southampton, então.\n",
    "        Num_S = Num_S + 1                           #Soma-se 1 a número de ingressante no navio nessa cidade.\n",
    "        Fare_S = Fare_C + titanic[\"Fare\"][i]        #Acrescenta-se a variável Fare_S o valor pago em tárifa de embarque no portão de Southampton.\n",
    "    else:                                           #Se nenhuma das condições foi satisfeita então o embarque ocorreru em Queenstown.\n",
    "        Num_Q = Num_Q + 1                           #Soma-se 1 a número de ingressante no navio nessa cidade.\n",
    "        Fare_Q = Fare_Q + titanic[\"Fare\"][i]        #Acrescenta-se a variável Fare_S o valor pago em tárifa de embarque no portão de Queenstown.\n",
    "\n",
    "print(f\"Em Cherbourg embarcaram {Num_C} passageiros e em média o valor pago por embarque nesse local foi de ${round(Fare_C/Num_C)}\")\n",
    "print(f\"Em Queenstown embarcaram {Num_Q} passageiros e em média o valor pago por embarque nesse local foi de ${round(Fare_Q/Num_Q)}\")\n",
    "print(f\"Em Southampton embarcaram {Num_S} passageiros e em média o valor pago por embarque nesse local foi de ${round(Fare_S/Num_S)}\")\n",
    "print(f\"Em média o valor pago por passageiros que embarcaram em Cherbourg foi muito superior as demais cidades.\")\n",
    "print(\"Não se verifica que o número de passageiros da primeira classe que embarcaram em Cherbourg é o maior. Esse comportamente desse estar ocorrendo devido a presença de muito outlier nessa cidade.\")"
   ]
  },
  {
   "cell_type": "code",
   "execution_count": null,
   "metadata": {},
   "outputs": [],
   "source": [
    "#Criação de uma nova coluna que categoriza o valor pago no ticket\n",
    "\n",
    "titanic[\"Fare_Range\"] = None\n",
    "\n",
    "for i in range(len(titanic)):\n",
    "    if titanic[\"Pclass\"][i] == 1:\n",
    "        titanic[\"Fare_Range\"][i] = \"Alto\"\n",
    "    elif titanic[\"Pclass\"][i] == 2:\n",
    "        titanic[\"Fare_Range\"][i] = \"Medio\"\n",
    "    else:\n",
    "        titanic[\"Fare_Range\"][i] = \"Baixo\""
   ]
  },
  {
   "cell_type": "code",
   "execution_count": 70,
   "metadata": {},
   "outputs": [
    {
     "data": {
      "text/html": [
       "<div>\n",
       "<style scoped>\n",
       "    .dataframe tbody tr th:only-of-type {\n",
       "        vertical-align: middle;\n",
       "    }\n",
       "\n",
       "    .dataframe tbody tr th {\n",
       "        vertical-align: top;\n",
       "    }\n",
       "\n",
       "    .dataframe thead th {\n",
       "        text-align: right;\n",
       "    }\n",
       "</style>\n",
       "<table border=\"1\" class=\"dataframe\">\n",
       "  <thead>\n",
       "    <tr style=\"text-align: right;\">\n",
       "      <th></th>\n",
       "      <th>Survived</th>\n",
       "      <th>Pclass</th>\n",
       "      <th>Name</th>\n",
       "      <th>Sex</th>\n",
       "      <th>Age</th>\n",
       "      <th>SibSp</th>\n",
       "      <th>Parch</th>\n",
       "      <th>Fare</th>\n",
       "      <th>Cabin</th>\n",
       "      <th>Embarked</th>\n",
       "      <th>Sobreviveu</th>\n",
       "      <th>Fare_Range</th>\n",
       "    </tr>\n",
       "  </thead>\n",
       "  <tbody>\n",
       "    <tr>\n",
       "      <th>0</th>\n",
       "      <td>0</td>\n",
       "      <td>3</td>\n",
       "      <td>Braund, Mr. Owen Harris</td>\n",
       "      <td>male</td>\n",
       "      <td>22</td>\n",
       "      <td>1</td>\n",
       "      <td>0</td>\n",
       "      <td>7.2500</td>\n",
       "      <td>Desconhecida</td>\n",
       "      <td>S</td>\n",
       "      <td>Não_Sobreviveu</td>\n",
       "      <td>Baixo</td>\n",
       "    </tr>\n",
       "    <tr>\n",
       "      <th>1</th>\n",
       "      <td>1</td>\n",
       "      <td>1</td>\n",
       "      <td>Cumings, Mrs. John Bradley (Florence Briggs Th...</td>\n",
       "      <td>female</td>\n",
       "      <td>38</td>\n",
       "      <td>1</td>\n",
       "      <td>0</td>\n",
       "      <td>71.2833</td>\n",
       "      <td>C85</td>\n",
       "      <td>C</td>\n",
       "      <td>Sobreviveu</td>\n",
       "      <td>Alto</td>\n",
       "    </tr>\n",
       "    <tr>\n",
       "      <th>2</th>\n",
       "      <td>1</td>\n",
       "      <td>3</td>\n",
       "      <td>Heikkinen, Miss. Laina</td>\n",
       "      <td>female</td>\n",
       "      <td>26</td>\n",
       "      <td>0</td>\n",
       "      <td>0</td>\n",
       "      <td>7.9250</td>\n",
       "      <td>Desconhecida</td>\n",
       "      <td>S</td>\n",
       "      <td>Sobreviveu</td>\n",
       "      <td>Baixo</td>\n",
       "    </tr>\n",
       "    <tr>\n",
       "      <th>3</th>\n",
       "      <td>1</td>\n",
       "      <td>1</td>\n",
       "      <td>Futrelle, Mrs. Jacques Heath (Lily May Peel)</td>\n",
       "      <td>female</td>\n",
       "      <td>35</td>\n",
       "      <td>1</td>\n",
       "      <td>0</td>\n",
       "      <td>53.1000</td>\n",
       "      <td>C123</td>\n",
       "      <td>S</td>\n",
       "      <td>Sobreviveu</td>\n",
       "      <td>Alto</td>\n",
       "    </tr>\n",
       "    <tr>\n",
       "      <th>4</th>\n",
       "      <td>0</td>\n",
       "      <td>3</td>\n",
       "      <td>Allen, Mr. William Henry</td>\n",
       "      <td>male</td>\n",
       "      <td>35</td>\n",
       "      <td>0</td>\n",
       "      <td>0</td>\n",
       "      <td>8.0500</td>\n",
       "      <td>Desconhecida</td>\n",
       "      <td>S</td>\n",
       "      <td>Não_Sobreviveu</td>\n",
       "      <td>Baixo</td>\n",
       "    </tr>\n",
       "  </tbody>\n",
       "</table>\n",
       "</div>"
      ],
      "text/plain": [
       "   Survived  Pclass                                               Name  \\\n",
       "0         0       3                            Braund, Mr. Owen Harris   \n",
       "1         1       1  Cumings, Mrs. John Bradley (Florence Briggs Th...   \n",
       "2         1       3                             Heikkinen, Miss. Laina   \n",
       "3         1       1       Futrelle, Mrs. Jacques Heath (Lily May Peel)   \n",
       "4         0       3                           Allen, Mr. William Henry   \n",
       "\n",
       "      Sex  Age  SibSp  Parch     Fare         Cabin Embarked      Sobreviveu  \\\n",
       "0    male   22      1      0   7.2500  Desconhecida        S  Não_Sobreviveu   \n",
       "1  female   38      1      0  71.2833           C85        C      Sobreviveu   \n",
       "2  female   26      0      0   7.9250  Desconhecida        S      Sobreviveu   \n",
       "3  female   35      1      0  53.1000          C123        S      Sobreviveu   \n",
       "4    male   35      0      0   8.0500  Desconhecida        S  Não_Sobreviveu   \n",
       "\n",
       "  Fare_Range  \n",
       "0      Baixo  \n",
       "1       Alto  \n",
       "2      Baixo  \n",
       "3       Alto  \n",
       "4      Baixo  "
      ]
     },
     "execution_count": 70,
     "metadata": {},
     "output_type": "execute_result"
    }
   ],
   "source": [
    "titanic.head()"
   ]
  },
  {
   "cell_type": "code",
   "execution_count": 110,
   "metadata": {},
   "outputs": [
    {
     "name": "stdout",
     "output_type": "stream",
     "text": [
      "A tarifa mais cara paga por um passageiro na primeira classe foi de $512.\n",
      "A tarifa mais barata paga por um passageiro na primeira classe foi de $30.\n",
      "A tarifa mais cara paga por um passageiro na segunda classe foi de $74.\n",
      "A tarifa mais barata paga por um passageiro na segunda classe foi de $10.\n",
      "A tarifa mais cara paga por um passageiro na terceira classe foi de $70.\n",
      "A tarifa mais barata paga por um passageiro na terceira classe foi de $29.\n"
     ]
    }
   ],
   "source": [
    "Max_P1 = 0\n",
    "Min_P1 = 0\n",
    "Max_P2 = 0\n",
    "Min_P2 = 0\n",
    "Max_P3 = 0\n",
    "Min_P3 = 0\n",
    "\n",
    "for i in range(len(titanic)):\n",
    "    if titanic[\"Pclass\"][i] == 1:\n",
    "        if titanic[\"Fare\"][i] > Max_P1:\n",
    "            Max_P1 = titanic[\"Fare\"][i]\n",
    "        if titanic[\"Fare\"][i] != 0 and i < 890:                         #Se a tarifa não for zerada e o valor da variável de loop não for o máximo, então. - (Se deixarmos i = 890 a condição na linha seguinte será a posição 891 que não existe e estaremos gerando um erro.)\n",
    "            if titanic[\"Fare\"][i+1] < titanic[\"Fare\"][i]:\n",
    "                Min_P1 = titanic[\"Fare\"][i]\n",
    "    if titanic[\"Pclass\"][i] == 2:\n",
    "        if titanic[\"Fare\"][i] > Max_P2:\n",
    "            Max_P2 = titanic[\"Fare\"][i]\n",
    "        if titanic[\"Fare\"][i] != 0 and i < 890:                         #Se a tarifa não for zerada e o valor da variável de loop não for o máximo, então. - (Se deixarmos i = 890 a condição na linha seguinte será a posição 891 que não existe e estaremos gerando um erro.)\n",
    "            if titanic[\"Fare\"][i+1] < titanic[\"Fare\"][i]:\n",
    "                Min_P2 = titanic[\"Fare\"][i]\n",
    "    if titanic[\"Pclass\"][i] == 3:\n",
    "        if titanic[\"Fare\"][i] > Max_P3:\n",
    "            Max_P3 = titanic[\"Fare\"][i]\n",
    "        if titanic[\"Fare\"][i] != 0 and i < 890:                         #Se a tarifa não for zerada e o valor da variável de loop não for o máximo, então. - (Se deixarmos i = 890 a condição na linha seguinte será a posição 891 que não existe e estaremos gerando um erro.)\n",
    "            if titanic[\"Fare\"][i+1] < titanic[\"Fare\"][i]:\n",
    "                Min_P3 = titanic[\"Fare\"][i]\n",
    "\n",
    "print(f\"A tarifa mais cara paga por um passageiro na primeira classe foi de ${round(Max_P1)}.\")\n",
    "print(f\"A tarifa mais barata paga por um passageiro na primeira classe foi de ${round(Min_P1)}.\")\n",
    "print(f\"A tarifa mais cara paga por um passageiro na segunda classe foi de ${round(Max_P2)}.\")\n",
    "print(f\"A tarifa mais barata paga por um passageiro na segunda classe foi de ${round(Min_P2)}.\")\n",
    "print(f\"A tarifa mais cara paga por um passageiro na terceira classe foi de ${round(Max_P3)}.\")\n",
    "print(f\"A tarifa mais barata paga por um passageiro na terceira classe foi de ${round(Min_P3)}.\")"
   ]
  },
  {
   "cell_type": "code",
   "execution_count": 78,
   "metadata": {},
   "outputs": [
    {
     "data": {
      "image/png": "[encoded data removed]",
      "text/plain": [
       "<Figure size 432x288 with 1 Axes>"
      ]
     },
     "metadata": {},
     "output_type": "display_data"
    }
   ],
   "source": [
    "import pandas as pd\n",
    "import seaborn as sns\n",
    "import matplotlib.pyplot as plt\n",
    "\n",
    "# Criar o boxplot\n",
    "sns.boxplot(x='Fare', data=titanic)\n",
    "\n",
    "# Personalizar o gráfico\n",
    "plt.title('Distribuição dos Preços das Passagens (Fare) no Titanic')\n",
    "plt.xlabel('Preço da Passagem')\n",
    "plt.ylabel('Valores')\n",
    "sns.set_style(\"whitegrid\")  # Define o estilo do gráfico\n",
    "sns.set_palette(\"pastel\")  # Define a paleta de cores\n",
    "\n",
    "plt.show()\n",
    "\n",
    "#No boxplot abaixo os círculos em cinza indicam todos os outlier da variável \"Fare\"."
   ]
  },
  {
   "cell_type": "code",
   "execution_count": 74,
   "metadata": {},
   "outputs": [
    {
     "name": "stdout",
     "output_type": "stream",
     "text": [
      "Número de outliers na coluna Fare é de 116 pontos.\n"
     ]
    }
   ],
   "source": [
    "# Calcular os quartis e o IQR\n",
    "Q1 = titanic['Fare'].quantile(0.25)\n",
    "Q3 = titanic['Fare'].quantile(0.75)\n",
    "IQR = Q3 - Q1\n",
    "\n",
    "# Definir os limites\n",
    "lower_bound = Q1 - 1.5 * IQR\n",
    "upper_bound = Q3 + 1.5 * IQR\n",
    "\n",
    "# Contar os outliers\n",
    "outliers = titanic[(titanic['Fare'] < lower_bound) | (titanic['Fare'] > upper_bound)]\n",
    "num_outliers = len(outliers)\n",
    "\n",
    "print(f\"Número de outliers na coluna Fare é de {num_outliers} pontos.\")"
   ]
  },
  {
   "cell_type": "markdown",
   "metadata": {},
   "source": [
    "#### Item (n)"
   ]
  },
  {
   "cell_type": "code",
   "execution_count": 72,
   "metadata": {},
   "outputs": [],
   "source": [
    "#Criação de uma nova coluna que categoriza o valor pago no ticket\n",
    "\n",
    "titanic[\"Fare_Range\"] = None                    #Criar uma coluna para armazenar as categorias de cada linha.\n",
    "\n",
    "for i in range(len(titanic)):                   #loop para percorrer o dataframe.\n",
    "    if titanic[\"Pclass\"][i] == 1:               #Se \"Pclass\" na posição i for igual a 1º classe então,\n",
    "        titanic[\"Fare_Range\"][i] = \"Alto\"       #A Fare_Range posição i recebe categoria alto.\n",
    "    elif titanic[\"Pclass\"][i] == 2:             #Se \"Pclass\" na posição i for igual a 2º classe então,\n",
    "        titanic[\"Fare_Range\"][i] = \"Medio\"      #A Fare_Range posição i recebe categoria medio.\n",
    "    else:                                       #Caso nenhuma das condições anteriores seja satisfeita, então o passageiros estava na 3º classe logo,\n",
    "        titanic[\"Fare_Range\"][i] = \"Baixo\"      #A Fare_Range posição i recebe categoria baixo."
   ]
  },
  {
   "cell_type": "code",
   "execution_count": 73,
   "metadata": {},
   "outputs": [
    {
     "data": {
      "text/html": [
       "<div>\n",
       "<style scoped>\n",
       "    .dataframe tbody tr th:only-of-type {\n",
       "        vertical-align: middle;\n",
       "    }\n",
       "\n",
       "    .dataframe tbody tr th {\n",
       "        vertical-align: top;\n",
       "    }\n",
       "\n",
       "    .dataframe thead th {\n",
       "        text-align: right;\n",
       "    }\n",
       "</style>\n",
       "<table border=\"1\" class=\"dataframe\">\n",
       "  <thead>\n",
       "    <tr style=\"text-align: right;\">\n",
       "      <th></th>\n",
       "      <th>Survived</th>\n",
       "      <th>Pclass</th>\n",
       "      <th>Name</th>\n",
       "      <th>Sex</th>\n",
       "      <th>Age</th>\n",
       "      <th>SibSp</th>\n",
       "      <th>Parch</th>\n",
       "      <th>Fare</th>\n",
       "      <th>Cabin</th>\n",
       "      <th>Embarked</th>\n",
       "      <th>Sobreviveu</th>\n",
       "      <th>Fare_Range</th>\n",
       "    </tr>\n",
       "  </thead>\n",
       "  <tbody>\n",
       "    <tr>\n",
       "      <th>0</th>\n",
       "      <td>0</td>\n",
       "      <td>3</td>\n",
       "      <td>Braund, Mr. Owen Harris</td>\n",
       "      <td>male</td>\n",
       "      <td>22</td>\n",
       "      <td>1</td>\n",
       "      <td>0</td>\n",
       "      <td>7.2500</td>\n",
       "      <td>Desconhecida</td>\n",
       "      <td>S</td>\n",
       "      <td>Não_Sobreviveu</td>\n",
       "      <td>Baixo</td>\n",
       "    </tr>\n",
       "    <tr>\n",
       "      <th>1</th>\n",
       "      <td>1</td>\n",
       "      <td>1</td>\n",
       "      <td>Cumings, Mrs. John Bradley (Florence Briggs Th...</td>\n",
       "      <td>female</td>\n",
       "      <td>38</td>\n",
       "      <td>1</td>\n",
       "      <td>0</td>\n",
       "      <td>71.2833</td>\n",
       "      <td>C85</td>\n",
       "      <td>C</td>\n",
       "      <td>Sobreviveu</td>\n",
       "      <td>Alto</td>\n",
       "    </tr>\n",
       "    <tr>\n",
       "      <th>2</th>\n",
       "      <td>1</td>\n",
       "      <td>3</td>\n",
       "      <td>Heikkinen, Miss. Laina</td>\n",
       "      <td>female</td>\n",
       "      <td>26</td>\n",
       "      <td>0</td>\n",
       "      <td>0</td>\n",
       "      <td>7.9250</td>\n",
       "      <td>Desconhecida</td>\n",
       "      <td>S</td>\n",
       "      <td>Sobreviveu</td>\n",
       "      <td>Baixo</td>\n",
       "    </tr>\n",
       "    <tr>\n",
       "      <th>3</th>\n",
       "      <td>1</td>\n",
       "      <td>1</td>\n",
       "      <td>Futrelle, Mrs. Jacques Heath (Lily May Peel)</td>\n",
       "      <td>female</td>\n",
       "      <td>35</td>\n",
       "      <td>1</td>\n",
       "      <td>0</td>\n",
       "      <td>53.1000</td>\n",
       "      <td>C123</td>\n",
       "      <td>S</td>\n",
       "      <td>Sobreviveu</td>\n",
       "      <td>Alto</td>\n",
       "    </tr>\n",
       "    <tr>\n",
       "      <th>4</th>\n",
       "      <td>0</td>\n",
       "      <td>3</td>\n",
       "      <td>Allen, Mr. William Henry</td>\n",
       "      <td>male</td>\n",
       "      <td>35</td>\n",
       "      <td>0</td>\n",
       "      <td>0</td>\n",
       "      <td>8.0500</td>\n",
       "      <td>Desconhecida</td>\n",
       "      <td>S</td>\n",
       "      <td>Não_Sobreviveu</td>\n",
       "      <td>Baixo</td>\n",
       "    </tr>\n",
       "  </tbody>\n",
       "</table>\n",
       "</div>"
      ],
      "text/plain": [
       "   Survived  Pclass                                               Name  \\\n",
       "0         0       3                            Braund, Mr. Owen Harris   \n",
       "1         1       1  Cumings, Mrs. John Bradley (Florence Briggs Th...   \n",
       "2         1       3                             Heikkinen, Miss. Laina   \n",
       "3         1       1       Futrelle, Mrs. Jacques Heath (Lily May Peel)   \n",
       "4         0       3                           Allen, Mr. William Henry   \n",
       "\n",
       "      Sex  Age  SibSp  Parch     Fare         Cabin Embarked      Sobreviveu  \\\n",
       "0    male   22      1      0   7.2500  Desconhecida        S  Não_Sobreviveu   \n",
       "1  female   38      1      0  71.2833           C85        C      Sobreviveu   \n",
       "2  female   26      0      0   7.9250  Desconhecida        S      Sobreviveu   \n",
       "3  female   35      1      0  53.1000          C123        S      Sobreviveu   \n",
       "4    male   35      0      0   8.0500  Desconhecida        S  Não_Sobreviveu   \n",
       "\n",
       "  Fare_Range  \n",
       "0      Baixo  \n",
       "1       Alto  \n",
       "2      Baixo  \n",
       "3       Alto  \n",
       "4      Baixo  "
      ]
     },
     "execution_count": 73,
     "metadata": {},
     "output_type": "execute_result"
    }
   ],
   "source": [
    "titanic.head()"
   ]
  },
  {
   "cell_type": "code",
   "execution_count": 79,
   "metadata": {},
   "outputs": [],
   "source": [
    "titanic.to_csv(r\"C:\\Users\\junio\\OneDrive\\Área de Trabalho\\ARTE DOS DADOS\\TITANIC\\titanic.csv\", sep=\";\", index=False)"
   ]
  }
 ],
 "metadata": {
  "kernelspec": {
   "display_name": "Python 3",
   "language": "python",
   "name": "python3"
  },
  "language_info": {
   "codemirror_mode": {
    "name": "ipython",
    "version": 3
   },
   "file_extension": ".py",
   "mimetype": "text/x-python",
   "name": "python",
   "nbconvert_exporter": "python",
   "pygments_lexer": "ipython3",
   "version": "3.10.2"
  }
 },
 "nbformat": 4,
 "nbformat_minor": 2
}
